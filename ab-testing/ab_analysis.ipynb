{
 "cells": [
  {
   "cell_type": "code",
   "execution_count": null,
   "id": "4f97cf8d-11d6-41a2-a8af-c539517686c3",
   "metadata": {},
   "outputs": [],
   "source": [
    "import pandas as pd\n",
    "import numpy as np\n",
    "import altair as alt\n",
    "alt.data_transformers.disable_max_rows()\n",
    "from datetime import datetime\n",
    "from scipy.stats import ttest_ind"
   ]
  },
  {
   "cell_type": "markdown",
   "id": "f23f6747-d8d7-4964-a5e3-432a05369bb3",
   "metadata": {},
   "source": [
    "# A/B test analysis"
   ]
  },
  {
   "cell_type": "markdown",
   "id": "0e346d33-6399-486d-b7da-7d5cf4fdec31",
   "metadata": {},
   "source": [
    "## Assignments"
   ]
  },
  {
   "cell_type": "code",
   "execution_count": null,
   "id": "d1fe91d9-852d-4153-9c84-367f7168c3d6",
   "metadata": {},
   "outputs": [],
   "source": [
    "data = pd.read_csv(\"data/assignments.csv\")"
   ]
  },
  {
   "cell_type": "code",
   "execution_count": null,
   "id": "e244d0b0-3be5-4df9-9da0-82e41636c07d",
   "metadata": {},
   "outputs": [],
   "source": [
    "data.head()"
   ]
  },
  {
   "cell_type": "code",
   "execution_count": null,
   "id": "644a07ad-76df-43e3-9972-db25b92cafad",
   "metadata": {},
   "outputs": [],
   "source": [
    "print(datetime.strptime(data.head(1)['ts'][0], '%Y-%m-%dT%H:%M:%SZ').strftime(\"%Y-%m-%d\"))"
   ]
  },
  {
   "cell_type": "code",
   "execution_count": null,
   "id": "85f871a3-460b-4506-ab93-28a2334d9f4f",
   "metadata": {},
   "outputs": [],
   "source": [
    "data['dt'] = data['ts'].map(lambda x: datetime.strptime(x, '%Y-%m-%dT%H:%M:%SZ').strftime(\"%Y-%m-%d\"))"
   ]
  },
  {
   "cell_type": "code",
   "execution_count": null,
   "id": "84a76d24-a8d5-4243-898b-aeea9359f64c",
   "metadata": {},
   "outputs": [],
   "source": [
    "data.head()"
   ]
  },
  {
   "cell_type": "code",
   "execution_count": null,
   "id": "f88851f9-8752-49c7-88c7-88a8c416cf87",
   "metadata": {},
   "outputs": [],
   "source": [
    "data.describe()"
   ]
  },
  {
   "cell_type": "code",
   "execution_count": null,
   "id": "11133ce5-448c-4d4d-b717-dc98011652bf",
   "metadata": {},
   "outputs": [],
   "source": [
    "data.groupby(['groupid']).count()"
   ]
  },
  {
   "cell_type": "code",
   "execution_count": null,
   "id": "a2a663f0-a170-46bd-9395-fd074cad537b",
   "metadata": {},
   "outputs": [],
   "source": [
    "data_count = data.groupby(['groupid','dt']).count().reset_index()"
   ]
  },
  {
   "cell_type": "code",
   "execution_count": null,
   "id": "90a4e9be-8ec9-4d67-8d48-02861038b5eb",
   "metadata": {},
   "outputs": [],
   "source": [
    "data_count.head()"
   ]
  },
  {
   "cell_type": "code",
   "execution_count": null,
   "id": "1a67c34d-305c-4cf5-9d03-6b7eb573a880",
   "metadata": {},
   "outputs": [],
   "source": [
    "alt.Chart(data_count).mark_line(size=3).encode(\n",
    "    alt.X('dt'),\n",
    "    alt.Y('userid'),\n",
    "    color='groupid:O',\n",
    "    tooltip=['userid']\n",
    ").properties(\n",
    "    width=600,\n",
    "    height=400\n",
    ")"
   ]
  },
  {
   "cell_type": "markdown",
   "id": "0f34e44e-d187-415e-a172-830da62ca29b",
   "metadata": {},
   "source": [
    "## Pre-test metrics"
   ]
  },
  {
   "cell_type": "markdown",
   "id": "04abdb7d-074b-4aed-a86b-677beb44ef37",
   "metadata": {},
   "source": [
    "### User activity"
   ]
  },
  {
   "cell_type": "code",
   "execution_count": null,
   "id": "ec950c0e-8a16-4fa6-a760-370828f2b379",
   "metadata": {},
   "outputs": [],
   "source": [
    "data_act = pd.read_csv(\"data/activity_all.csv\")"
   ]
  },
  {
   "cell_type": "code",
   "execution_count": null,
   "id": "9ebf0779-4af9-4772-964e-76e306697fe7",
   "metadata": {},
   "outputs": [],
   "source": [
    "data_act.head()"
   ]
  },
  {
   "cell_type": "code",
   "execution_count": null,
   "id": "a1b7f460-ac2b-4e8c-8b76-2959277be369",
   "metadata": {},
   "outputs": [],
   "source": [
    "data_act.groupby(['groupid','dt']).describe()"
   ]
  },
  {
   "cell_type": "code",
   "execution_count": null,
   "id": "e8b6623d-52ae-4dc0-b408-e7cb89fce5da",
   "metadata": {},
   "outputs": [],
   "source": [
    "data_act.query('activity_level > 0').groupby(['dt', 'groupid']).count().reset_index().head()"
   ]
  },
  {
   "cell_type": "code",
   "execution_count": null,
   "id": "f0140d32-1ab7-4d9c-80bf-0b5aa2805123",
   "metadata": {},
   "outputs": [],
   "source": [
    "alt.Chart(data_act.query('activity_level > 0').groupby(['dt', 'groupid']).count().reset_index()).mark_line(size=3).encode(\n",
    "    alt.X('dt'),\n",
    "    alt.Y('userid'),\n",
    "    color='groupid:O',\n",
    "    tooltip=['userid']\n",
    ").properties(\n",
    "    width=600,\n",
    "    height=400\n",
    ")"
   ]
  },
  {
   "cell_type": "code",
   "execution_count": null,
   "id": "f8f821a4-0c02-4b5b-9385-d9041dfdeb2f",
   "metadata": {},
   "outputs": [],
   "source": [
    "(\n",
    "    data_act.query('activity_level > 0 and groupid == 0 and dt >= \"2021-11-01\"')\n",
    "    .groupby(['dt','groupid']).count().reset_index()[['groupid','activity_level']].describe()\n",
    ")"
   ]
  },
  {
   "cell_type": "code",
   "execution_count": null,
   "id": "c9c9b2f9-d220-44d4-9f1b-12861828978b",
   "metadata": {},
   "outputs": [],
   "source": [
    "(\n",
    "    data_act.query('activity_level > 0 and groupid == 1 and dt >= \"2021-11-01\"')\n",
    "    .groupby(['dt','groupid']).count().reset_index()[['groupid','activity_level']].describe()\n",
    ")"
   ]
  },
  {
   "cell_type": "code",
   "execution_count": null,
   "id": "77bd83cf-ec2c-41a4-b4d9-683256d794f2",
   "metadata": {},
   "outputs": [],
   "source": [
    "data_act.query('dt >= \"2021-11-01\"').groupby(['groupid']).describe()"
   ]
  },
  {
   "cell_type": "code",
   "execution_count": null,
   "id": "3cef8287-1529-42ef-b075-dcc7a1930cec",
   "metadata": {},
   "outputs": [],
   "source": [
    "data_act.query('dt < \"2021-11-01\"').groupby('groupid').describe()"
   ]
  },
  {
   "cell_type": "code",
   "execution_count": null,
   "id": "8ab52da4-2fa9-46bc-b67a-bca8b805f8c3",
   "metadata": {},
   "outputs": [],
   "source": [
    "data_act_count = data_act.query('activity_level > 0').groupby(['groupid','dt']).count().reset_index()"
   ]
  },
  {
   "cell_type": "code",
   "execution_count": null,
   "id": "7cfd5ee0-308e-4452-87f2-43d4deccd2c4",
   "metadata": {},
   "outputs": [],
   "source": [
    "data_act_count.head()"
   ]
  },
  {
   "cell_type": "code",
   "execution_count": null,
   "id": "044f6100-ea01-46fe-ba50-7e994a7fbf5c",
   "metadata": {},
   "outputs": [],
   "source": [
    "alt.Chart(data_act_count).mark_line(size=3).encode(\n",
    "    alt.X('dt'),\n",
    "    alt.Y('userid'),\n",
    "    color='groupid:O',\n",
    "    tooltip=['userid']\n",
    ").properties(\n",
    "    width=600,\n",
    "    height=400\n",
    ")"
   ]
  },
  {
   "cell_type": "markdown",
   "id": "39cf46cb-0c1e-40f2-9a36-631a7dbaacf5",
   "metadata": {},
   "source": [
    "### Comparing the activity between the groups"
   ]
  },
  {
   "cell_type": "markdown",
   "id": "dfe26f82-0648-4b16-acac-3dd2f4b907f2",
   "metadata": {},
   "source": [
    "By the activity levels"
   ]
  },
  {
   "cell_type": "code",
   "execution_count": null,
   "id": "fcfc3b59-eb27-4067-b5ee-ad05e34b30b5",
   "metadata": {},
   "outputs": [],
   "source": [
    "data_act.query('groupid == 0')['activity_level'].to_numpy()"
   ]
  },
  {
   "cell_type": "code",
   "execution_count": null,
   "id": "15019ca0-7a63-44d1-9dce-916ddacf28eb",
   "metadata": {},
   "outputs": [],
   "source": [
    "res = ttest_ind(data_act.query('groupid == 0 and dt >= \"2021-11-01\"')['activity_level'].to_numpy(),\n",
    "                data_act.query('groupid == 1 and dt >= \"2021-11-01\"')['activity_level'].to_numpy()).pvalue\n",
    "\n",
    "print(res)"
   ]
  },
  {
   "cell_type": "code",
   "execution_count": null,
   "id": "280e6387-de54-467e-92bc-09056d989109",
   "metadata": {},
   "outputs": [],
   "source": [
    "\"{:.100f}\".format(res)"
   ]
  },
  {
   "cell_type": "markdown",
   "id": "bacfced1-1702-498d-812b-57e4cb5262ab",
   "metadata": {},
   "source": [
    "By the number of active users"
   ]
  },
  {
   "cell_type": "code",
   "execution_count": null,
   "id": "a49dbd4f-fe53-4068-bba3-a459f76e0273",
   "metadata": {},
   "outputs": [],
   "source": [
    "before = data_act_count.query('dt < \"2021-11-01\"')"
   ]
  },
  {
   "cell_type": "code",
   "execution_count": null,
   "id": "cbf5ce39-373e-4d24-a131-ab5f1697e951",
   "metadata": {},
   "outputs": [],
   "source": [
    "after = data_act_count.query('dt >= \"2021-11-01\"')"
   ]
  },
  {
   "cell_type": "code",
   "execution_count": null,
   "id": "add4af9c-e91f-4b19-b746-57baa0a6d7ee",
   "metadata": {},
   "outputs": [],
   "source": [
    "before.head()"
   ]
  },
  {
   "cell_type": "markdown",
   "id": "02203cd0-0525-4ce3-9e95-b61f0a1ec781",
   "metadata": {},
   "source": [
    "Checking for the pretest bias on activity."
   ]
  },
  {
   "cell_type": "code",
   "execution_count": null,
   "id": "4e037632-1216-44d2-9d44-4ec2dca80ffb",
   "metadata": {},
   "outputs": [],
   "source": [
    "np.mean(before.query('groupid == 0')['userid'].to_numpy())"
   ]
  },
  {
   "cell_type": "code",
   "execution_count": null,
   "id": "204cb2d8-8a05-40c7-99d3-2f2cc8a6cabb",
   "metadata": {},
   "outputs": [],
   "source": [
    "np.mean(before.query('groupid == 1')['userid'].to_numpy())"
   ]
  },
  {
   "cell_type": "code",
   "execution_count": null,
   "id": "b2134b34-4290-49d9-9038-77963642d9b5",
   "metadata": {},
   "outputs": [],
   "source": [
    "res = ttest_ind(before.query('groupid == 0')['userid'].to_numpy(), before.query('groupid == 1')['userid']\n",
    "                .to_numpy()).pvalue\n",
    "\n",
    "print(res)"
   ]
  },
  {
   "cell_type": "code",
   "execution_count": null,
   "id": "a5a52fba-08d0-4074-a1ce-2ad958727486",
   "metadata": {},
   "outputs": [],
   "source": [
    "\"{:.100f}\".format(res)"
   ]
  },
  {
   "cell_type": "code",
   "execution_count": null,
   "id": "310c8d47-f759-48d3-8158-b8b2fa41d2b7",
   "metadata": {},
   "outputs": [],
   "source": [
    "np.mean(after.query('groupid == 0')['userid'].to_numpy())"
   ]
  },
  {
   "cell_type": "code",
   "execution_count": null,
   "id": "c84796e5-4cc6-468b-b85c-b97b0cfdd3d3",
   "metadata": {},
   "outputs": [],
   "source": [
    "np.mean(after.query('groupid == 1')['userid'].to_numpy())"
   ]
  },
  {
   "cell_type": "code",
   "execution_count": null,
   "id": "64d988cd-2834-4106-a65f-dad544c743ba",
   "metadata": {},
   "outputs": [],
   "source": [
    "res = ttest_ind(after.query('groupid == 0')['userid'].to_numpy(), after.query('groupid == 1')['userid']\n",
    "                .to_numpy()).pvalue\n",
    "\n",
    "print(res)"
   ]
  },
  {
   "cell_type": "code",
   "execution_count": null,
   "id": "7888d484-7de6-4781-8adc-735f9bffdfc5",
   "metadata": {},
   "outputs": [],
   "source": [
    "\"{:.100f}\".format(res)"
   ]
  },
  {
   "cell_type": "markdown",
   "id": "811ad1c5-021f-4081-986a-7694701220c9",
   "metadata": {},
   "source": [
    "### Click through rate (CTR)"
   ]
  },
  {
   "cell_type": "code",
   "execution_count": null,
   "id": "55b3440e-f138-4226-8929-da46fd60ed1b",
   "metadata": {},
   "outputs": [],
   "source": [
    "data_ctr = pd.read_csv(\"data/ctr_all.csv\")"
   ]
  },
  {
   "cell_type": "code",
   "execution_count": null,
   "id": "a6fe2a7e-0fa4-4e11-bbbe-1199c888e04e",
   "metadata": {},
   "outputs": [],
   "source": [
    "data_ctr.head()"
   ]
  },
  {
   "cell_type": "code",
   "execution_count": null,
   "id": "133cf1a1-3b2c-480b-a0f5-26a7f8d8d8e3",
   "metadata": {},
   "outputs": [],
   "source": [
    "data_ctr_avg = data_ctr.groupby(['groupid','dt']).mean().reset_index()"
   ]
  },
  {
   "cell_type": "code",
   "execution_count": null,
   "id": "c249e2ee-5405-482b-81fb-b395fe656543",
   "metadata": {},
   "outputs": [],
   "source": [
    "alt.Chart(data_ctr_avg).mark_line(size=5).encode(\n",
    "    alt.X('dt'),\n",
    "    alt.Y('ctr'),\n",
    "    color='groupid:O',\n",
    "    tooltip=['ctr']\n",
    ").properties(\n",
    "    width=600,\n",
    "    height=400\n",
    ")"
   ]
  },
  {
   "cell_type": "code",
   "execution_count": null,
   "id": "0fcb9999-0c2f-4f51-9f61-ff7bcf9065eb",
   "metadata": {},
   "outputs": [],
   "source": [
    "before = data_ctr.query('dt < \"2021-11-01\"')[['groupid', 'ctr']]"
   ]
  },
  {
   "cell_type": "code",
   "execution_count": null,
   "id": "7afe0b57-06da-4602-a6c7-e5f8975d5942",
   "metadata": {},
   "outputs": [],
   "source": [
    "after = data_ctr.query('dt >= \"2021-11-01\"')[['groupid', 'ctr']]"
   ]
  },
  {
   "cell_type": "code",
   "execution_count": null,
   "id": "ec2875dd-5a7b-4f54-8af1-88646f4a4abd",
   "metadata": {},
   "outputs": [],
   "source": [
    "after"
   ]
  },
  {
   "cell_type": "code",
   "execution_count": null,
   "id": "e361078c-b856-4c7a-b309-647135e7a5dd",
   "metadata": {},
   "outputs": [],
   "source": [
    "before.query('groupid == 0')['ctr'].to_numpy().mean()"
   ]
  },
  {
   "cell_type": "code",
   "execution_count": null,
   "id": "b93896aa-f0a5-44fd-ae37-8833fc15eefb",
   "metadata": {},
   "outputs": [],
   "source": [
    "before.query('groupid == 1')['ctr'].to_numpy().mean()"
   ]
  },
  {
   "cell_type": "code",
   "execution_count": null,
   "id": "30b93d91-cac5-4d48-82c2-a9920d838706",
   "metadata": {},
   "outputs": [],
   "source": [
    "after.query('groupid == 0')['ctr'].to_numpy().mean()"
   ]
  },
  {
   "cell_type": "code",
   "execution_count": null,
   "id": "a602b9c2-1c9d-45cc-bc4c-55d28278d151",
   "metadata": {},
   "outputs": [],
   "source": [
    "after.query('groupid == 1')['ctr'].to_numpy().mean()"
   ]
  },
  {
   "cell_type": "code",
   "execution_count": null,
   "id": "d974c618-7579-4a7c-b461-e0d44da05b3d",
   "metadata": {},
   "outputs": [],
   "source": [
    "before.query('groupid == 0')['ctr'].to_numpy().std()"
   ]
  },
  {
   "cell_type": "code",
   "execution_count": null,
   "id": "00e401b9-6985-4e8d-8c22-085a6b5a90bf",
   "metadata": {},
   "outputs": [],
   "source": [
    "before.query('groupid == 1')['ctr'].to_numpy().std()"
   ]
  },
  {
   "cell_type": "code",
   "execution_count": null,
   "id": "e89c8756-1781-4648-bad9-f03af02bde99",
   "metadata": {},
   "outputs": [],
   "source": [
    "after.query('groupid == 0')['ctr'].to_numpy().std()"
   ]
  },
  {
   "cell_type": "code",
   "execution_count": null,
   "id": "a701e825-b812-4aa9-bc40-ab9d44b7f203",
   "metadata": {},
   "outputs": [],
   "source": [
    "after.query('groupid == 1')['ctr'].to_numpy().std()"
   ]
  },
  {
   "cell_type": "code",
   "execution_count": null,
   "id": "8ed1a047-7d6e-4e68-9540-f9c8819b4c52",
   "metadata": {},
   "outputs": [],
   "source": [
    "res = ttest_ind(before.query('groupid == 0')['ctr'].to_numpy(), before.query('groupid == 1')['ctr']\n",
    "                .to_numpy()).pvalue\n",
    "\n",
    "print(res)"
   ]
  },
  {
   "cell_type": "code",
   "execution_count": null,
   "id": "c45520bd-6b71-4fee-814d-ce925cad4b8c",
   "metadata": {},
   "outputs": [],
   "source": [
    "res = ttest_ind(after.query('groupid == 0')['ctr'].to_numpy(), after.query('groupid == 1')['ctr']\n",
    "                .to_numpy()).pvalue\n",
    "print(res)"
   ]
  },
  {
   "cell_type": "code",
   "execution_count": null,
   "id": "e82c0078-bfde-4b95-a1e6-f80baed78c11",
   "metadata": {},
   "outputs": [],
   "source": [
    "\"{:.100f}\".format(res)"
   ]
  }
 ],
 "metadata": {
  "kernelspec": {
   "display_name": "Python 3 (ipykernel)",
   "language": "python",
   "name": "python3"
  },
  "language_info": {
   "codemirror_mode": {
    "name": "ipython",
    "version": 3
   },
   "file_extension": ".py",
   "mimetype": "text/x-python",
   "name": "python",
   "nbconvert_exporter": "python",
   "pygments_lexer": "ipython3",
   "version": "3.12.0"
  }
 },
 "nbformat": 4,
 "nbformat_minor": 5
}
